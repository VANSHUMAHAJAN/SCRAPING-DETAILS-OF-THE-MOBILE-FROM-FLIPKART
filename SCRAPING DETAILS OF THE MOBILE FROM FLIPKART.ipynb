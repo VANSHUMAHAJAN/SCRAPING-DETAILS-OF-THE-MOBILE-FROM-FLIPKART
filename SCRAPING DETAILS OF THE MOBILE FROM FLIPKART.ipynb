{
 "cells": [
  {
   "cell_type": "code",
   "execution_count": 52,
   "id": "6a48e2ad",
   "metadata": {},
   "outputs": [],
   "source": [
    "import bs4\n",
    "\n",
    "from bs4 import BeautifulSoup\n",
    "\n",
    "import requests"
   ]
  },
  {
   "cell_type": "code",
   "execution_count": 57,
   "id": "870d2632",
   "metadata": {},
   "outputs": [],
   "source": [
    "html_text=requests.get('https://www.flipkart.com/search?q=mobiles&sid=tyy%2C4io&as=on&as-show=on&otracker=AS_QueryStore_OrganicAutoSuggest_1_6_na_na_na&otracker1=AS_QueryStore_OrganicAutoSuggest_1_6_na_na_na&as-pos=1&as-type=RECENT&suggestionId=mobiles%7CMobiles&requestId=81743851-2271-4dc6-a228-e64f983d603a&as-searchtext=mobile').text\n",
    "\n",
    "soup=bs4.BeautifulSoup(html_text,'html')"
   ]
  },
  {
   "cell_type": "code",
   "execution_count": null,
   "id": "079edcd8",
   "metadata": {},
   "outputs": [],
   "source": [
    "class requestor():\n",
    "    def __init__(self):\n",
    "        "
   ]
  },
  {
   "cell_type": "code",
   "execution_count": 65,
   "id": "987eb653",
   "metadata": {},
   "outputs": [],
   "source": [
    "my_dict={}\n",
    "for x in range(0,2):## 2 stands for second page\n",
    "    link='https://www.flipkart.com'+soup.find_all('a',class_=\"ge-49M\")[x]['href']\n",
    "    html_text=requests.get(link).text\n",
    "    soup=bs4.BeautifulSoup(html_text,'html')\n",
    "    for x in range(0,len(soup.find_all('div',class_=\"_4rR01T\"))):\n",
    "        ## NAME OF THE MOBILE\n",
    "        name=soup.find_all('div',class_=\"_4rR01T\")[x].text\n",
    "        ##PRICE OF THE MOBILE\n",
    "        price=soup.find_all('div',class_=\"_30jeq3 _1_WHN1\")[x].text\n",
    "        ##RATING \n",
    "        rating=soup.find_all('div',class_=\"_3LWZlK\")[x].text\n",
    "        ##LINK\n",
    "        website='https://www.flipkart.com'+soup.find_all('a',class_=\"_1fQZEK\")[x]['href']\n",
    "        \n",
    "        ##STORING IN A DICTIONARY\n",
    "        my_dict[name]={}\n",
    "        my_dict[name]['PRICE']=price\n",
    "        my_dict[name]['RATING']=rating\n",
    "        my_dict[name]['LINK']=website\n",
    "    "
   ]
  },
  {
   "cell_type": "code",
   "execution_count": 66,
   "id": "1cbfd8e5",
   "metadata": {},
   "outputs": [],
   "source": [
    "import pandas as pd"
   ]
  },
  {
   "cell_type": "markdown",
   "id": "07429bf9",
   "metadata": {},
   "source": [
    "CONVERTING DICT TO A DATAFRAME"
   ]
  },
  {
   "cell_type": "code",
   "execution_count": 67,
   "id": "b8f1694e",
   "metadata": {},
   "outputs": [],
   "source": [
    "df=pd.DataFrame(my_dict).transpose()"
   ]
  },
  {
   "cell_type": "code",
   "execution_count": 69,
   "id": "3d8fb7eb",
   "metadata": {},
   "outputs": [],
   "source": [
    "df.to_excel('FLIPKART_MOBILE.xlsx')"
   ]
  },
  {
   "cell_type": "code",
   "execution_count": null,
   "id": "245afc8c",
   "metadata": {},
   "outputs": [],
   "source": []
  }
 ],
 "metadata": {
  "kernelspec": {
   "display_name": "Python 3 (ipykernel)",
   "language": "python",
   "name": "python3"
  },
  "language_info": {
   "codemirror_mode": {
    "name": "ipython",
    "version": 3
   },
   "file_extension": ".py",
   "mimetype": "text/x-python",
   "name": "python",
   "nbconvert_exporter": "python",
   "pygments_lexer": "ipython3",
   "version": "3.9.7"
  }
 },
 "nbformat": 4,
 "nbformat_minor": 5
}
